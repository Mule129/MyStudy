{
 "cells": [
  {
   "cell_type": "code",
   "execution_count": 161,
   "metadata": {},
   "outputs": [],
   "source": [
    "import numpy as np\n",
    "import pandas as pd\n",
    "from keras import Sequential, layers, models\n",
    "from sklearn.model_selection import train_test_split\n",
    "from sklearn.preprocessing import Normalizer\n",
    "import matplotlib.pyplot as plt"
   ]
  },
  {
   "cell_type": "code",
   "execution_count": 162,
   "metadata": {},
   "outputs": [
    {
     "name": "stdout",
     "output_type": "stream",
     "text": [
      "C:\\Users\\a24cc\\Documents\\Github\\practicePJ\\20221122_ss_PJ\n"
     ]
    }
   ],
   "source": [
    "import os\n",
    "path = os.path.dirname(os.path.realpath(\"__file__\"))\n",
    "print(path)"
   ]
  },
  {
   "cell_type": "code",
   "execution_count": 163,
   "metadata": {},
   "outputs": [
    {
     "name": "stdout",
     "output_type": "stream",
     "text": [
      "['AllData.csv', 'DataFit.py', 'DataFit_jupyter.ipynb', 'save_model', '육군 신체측정정보.csv']\n",
      "c:\\Users\\a24cc\\Documents\\Github\\practicePJ\\20221122_ss_PJ\n"
     ]
    }
   ],
   "source": [
    "import os\n",
    "print(os.listdir(os.getcwd()))\n",
    "print(os.getcwd())"
   ]
  },
  {
   "cell_type": "code",
   "execution_count": 164,
   "metadata": {},
   "outputs": [
    {
     "name": "stdout",
     "output_type": "stream",
     "text": [
      "(135668, 7) (135668,)\n"
     ]
    }
   ],
   "source": [
    "with open(path+r\"\\육군 신체측정정보.csv\", \"r\", ) as file:\n",
    "    data = pd.read_csv(file)\n",
    "    #print(data)\n",
    "train_data = data.to_numpy()\n",
    "x_data, y_data = [], []\n",
    "for i in train_data[:]:\n",
    "    x_data.append(i[:7])\n",
    "    y_data.append(i[7])\n",
    "train_data = np.array(x_data)\n",
    "test_data = np.array(y_data)\n",
    "print(train_data.shape, test_data.shape)"
   ]
  },
  {
   "cell_type": "code",
   "execution_count": 165,
   "metadata": {},
   "outputs": [
    {
     "name": "stdout",
     "output_type": "stream",
     "text": [
      "(25437, 7) (33917, 7) (25437,) (33917,) (8480, 7)\n"
     ]
    }
   ],
   "source": [
    "\n",
    "nmr = Normalizer().fit(x_data)\n",
    "x_data = nmr.transform(x_data)\n",
    "\n",
    "train_x, test_x, train_y, test_y = train_test_split(train_data, test_data, random_state=1)\n",
    "train_x, val_x, train_y, val_y = train_test_split(test_x, test_y, random_state=1)\n",
    "print(train_x.shape, test_x.shape, train_y.shape, test_y.shape, val_x.shape)"
   ]
  },
  {
   "cell_type": "code",
   "execution_count": 166,
   "metadata": {},
   "outputs": [
    {
     "name": "stdout",
     "output_type": "stream",
     "text": [
      "Model: \"sequential_14\"\n",
      "_________________________________________________________________\n",
      " Layer (type)                Output Shape              Param #   \n",
      "=================================================================\n",
      " dense_72 (Dense)            (None, 256)               2048      \n",
      "                                                                 \n",
      " dense_73 (Dense)            (None, 128)               32896     \n",
      "                                                                 \n",
      " dense_74 (Dense)            (None, 64)                8256      \n",
      "                                                                 \n",
      " dense_75 (Dense)            (None, 32)                2080      \n",
      "                                                                 \n",
      " dense_76 (Dense)            (None, 16)                528       \n",
      "                                                                 \n",
      " dense_77 (Dense)            (None, 4)                 68        \n",
      "                                                                 \n",
      " dense_78 (Dense)            (None, 1)                 5         \n",
      "                                                                 \n",
      "=================================================================\n",
      "Total params: 45,881\n",
      "Trainable params: 45,881\n",
      "Non-trainable params: 0\n",
      "_________________________________________________________________\n"
     ]
    }
   ],
   "source": [
    "#모델 레이어 수정하고 fit만 다시 하면 정확도 문제 발생 -> 전체 실행으로 해결\n",
    "model = Sequential()\n",
    "model.add(layers.Input(7))\n",
    "model.add(layers.Dense(256, activation = \"relu\"))\n",
    "model.add(layers.Dense(128, activation = \"relu\"))\n",
    "model.add(layers.Dense(64, activation=\"relu\"))\n",
    "model.add(layers.Dense(32, activation=\"relu\"))\n",
    "model.add(layers.Dense(16, activation=\"relu\"))\n",
    "model.add(layers.Dense(4, activation=\"relu\"))\n",
    "model.add(layers.Dense(1, activation=\"relu\"))\n",
    "\n",
    "model.summary()"
   ]
  },
  {
   "cell_type": "code",
   "execution_count": 167,
   "metadata": {},
   "outputs": [
    {
     "name": "stdout",
     "output_type": "stream",
     "text": [
      "Epoch 1/100\n",
      "199/199 [==============================] - 1s 4ms/step - loss: 7.2969 - val_loss: 4.6501\n",
      "Epoch 2/100\n",
      "199/199 [==============================] - 1s 4ms/step - loss: 4.6021 - val_loss: 5.1328\n",
      "Epoch 3/100\n",
      "199/199 [==============================] - 1s 4ms/step - loss: 4.4984 - val_loss: 4.3117\n",
      "Epoch 4/100\n",
      "199/199 [==============================] - 1s 4ms/step - loss: 4.4985 - val_loss: 4.4573\n",
      "Epoch 5/100\n",
      "199/199 [==============================] - 1s 4ms/step - loss: 4.3771 - val_loss: 4.2867\n",
      "Epoch 6/100\n",
      "199/199 [==============================] - 1s 4ms/step - loss: 4.4484 - val_loss: 4.4766\n",
      "Epoch 7/100\n",
      "199/199 [==============================] - 1s 4ms/step - loss: 4.3672 - val_loss: 4.2323\n",
      "Epoch 8/100\n",
      "199/199 [==============================] - 1s 4ms/step - loss: 4.2896 - val_loss: 4.4544\n",
      "Epoch 9/100\n",
      "199/199 [==============================] - 1s 5ms/step - loss: 4.2785 - val_loss: 4.1736\n",
      "Epoch 10/100\n",
      "199/199 [==============================] - 1s 5ms/step - loss: 4.2749 - val_loss: 4.2022\n",
      "Epoch 11/100\n",
      "199/199 [==============================] - 1s 4ms/step - loss: 4.2591 - val_loss: 4.4703\n",
      "Epoch 12/100\n",
      "199/199 [==============================] - 1s 4ms/step - loss: 4.2349 - val_loss: 4.3683\n",
      "Epoch 13/100\n",
      "199/199 [==============================] - 1s 4ms/step - loss: 4.2074 - val_loss: 4.6394\n",
      "Epoch 14/100\n",
      "199/199 [==============================] - 1s 4ms/step - loss: 4.1970 - val_loss: 4.2496\n",
      "Epoch 15/100\n",
      "199/199 [==============================] - 1s 5ms/step - loss: 4.2168 - val_loss: 4.5340\n",
      "Epoch 16/100\n",
      "199/199 [==============================] - 1s 4ms/step - loss: 4.1279 - val_loss: 4.2191\n",
      "Epoch 17/100\n",
      "199/199 [==============================] - 1s 4ms/step - loss: 4.1504 - val_loss: 4.1076\n",
      "Epoch 18/100\n",
      "199/199 [==============================] - 1s 5ms/step - loss: 4.2864 - val_loss: 4.0939\n",
      "Epoch 19/100\n",
      "199/199 [==============================] - 1s 4ms/step - loss: 4.1840 - val_loss: 4.0913\n",
      "Epoch 20/100\n",
      "199/199 [==============================] - 1s 4ms/step - loss: 4.1765 - val_loss: 4.1882\n",
      "Epoch 21/100\n",
      "199/199 [==============================] - 1s 6ms/step - loss: 4.1663 - val_loss: 4.1210\n",
      "Epoch 22/100\n",
      "199/199 [==============================] - 1s 5ms/step - loss: 4.1983 - val_loss: 4.1256\n",
      "Epoch 23/100\n",
      "199/199 [==============================] - 1s 5ms/step - loss: 4.1267 - val_loss: 4.1600\n",
      "Epoch 24/100\n",
      "199/199 [==============================] - 1s 4ms/step - loss: 4.1513 - val_loss: 4.0692\n",
      "Epoch 25/100\n",
      "199/199 [==============================] - 1s 4ms/step - loss: 4.1419 - val_loss: 4.0649\n",
      "Epoch 26/100\n",
      "199/199 [==============================] - 1s 4ms/step - loss: 4.1215 - val_loss: 4.0999\n",
      "Epoch 27/100\n",
      "199/199 [==============================] - 1s 4ms/step - loss: 4.2036 - val_loss: 4.1542\n",
      "Epoch 28/100\n",
      "199/199 [==============================] - 1s 4ms/step - loss: 4.1287 - val_loss: 4.0817\n",
      "Epoch 29/100\n",
      "199/199 [==============================] - 1s 4ms/step - loss: 4.1841 - val_loss: 4.6335\n",
      "Epoch 30/100\n",
      "199/199 [==============================] - 1s 4ms/step - loss: 4.1186 - val_loss: 4.0738\n",
      "Epoch 31/100\n",
      "199/199 [==============================] - 1s 4ms/step - loss: 4.1423 - val_loss: 4.0572\n",
      "Epoch 32/100\n",
      "199/199 [==============================] - 1s 4ms/step - loss: 4.1483 - val_loss: 4.2159\n",
      "Epoch 33/100\n",
      "199/199 [==============================] - 1s 4ms/step - loss: 4.1267 - val_loss: 4.4957\n",
      "Epoch 34/100\n",
      "199/199 [==============================] - 1s 4ms/step - loss: 4.1677 - val_loss: 4.0613\n",
      "Epoch 35/100\n",
      "199/199 [==============================] - 1s 4ms/step - loss: 4.1224 - val_loss: 4.6640\n",
      "Epoch 36/100\n",
      "199/199 [==============================] - 1s 4ms/step - loss: 4.1377 - val_loss: 4.0434\n",
      "Epoch 37/100\n",
      "199/199 [==============================] - 1s 5ms/step - loss: 4.1837 - val_loss: 4.0306\n",
      "Epoch 38/100\n",
      "199/199 [==============================] - 1s 4ms/step - loss: 4.1208 - val_loss: 4.0461\n",
      "Epoch 39/100\n",
      "199/199 [==============================] - 1s 5ms/step - loss: 4.1089 - val_loss: 4.0443\n",
      "Epoch 40/100\n",
      "199/199 [==============================] - 1s 4ms/step - loss: 4.0965 - val_loss: 4.0332\n",
      "Epoch 41/100\n",
      "199/199 [==============================] - 1s 4ms/step - loss: 4.0846 - val_loss: 4.0309\n",
      "Epoch 42/100\n",
      "199/199 [==============================] - 1s 4ms/step - loss: 4.1025 - val_loss: 4.2793\n",
      "Epoch 43/100\n",
      "199/199 [==============================] - 1s 5ms/step - loss: 4.0984 - val_loss: 4.0165\n",
      "Epoch 44/100\n",
      "199/199 [==============================] - 1s 4ms/step - loss: 4.1271 - val_loss: 4.0263\n",
      "Epoch 45/100\n",
      "199/199 [==============================] - 1s 5ms/step - loss: 4.0712 - val_loss: 4.1528\n",
      "Epoch 46/100\n",
      "199/199 [==============================] - 1s 6ms/step - loss: 4.1209 - val_loss: 4.0266\n",
      "Epoch 47/100\n",
      "199/199 [==============================] - 1s 4ms/step - loss: 4.0556 - val_loss: 4.0189\n",
      "Epoch 48/100\n",
      "199/199 [==============================] - 1s 4ms/step - loss: 4.0662 - val_loss: 4.0220\n",
      "Epoch 49/100\n",
      "199/199 [==============================] - 1s 4ms/step - loss: 4.0992 - val_loss: 4.0738\n",
      "Epoch 50/100\n",
      "199/199 [==============================] - 1s 4ms/step - loss: 4.0566 - val_loss: 4.0215\n",
      "Epoch 51/100\n",
      "199/199 [==============================] - 1s 5ms/step - loss: 4.0814 - val_loss: 4.3432\n",
      "Epoch 52/100\n",
      "199/199 [==============================] - 1s 5ms/step - loss: 4.0786 - val_loss: 4.0783\n",
      "Epoch 53/100\n",
      "199/199 [==============================] - 1s 5ms/step - loss: 4.0891 - val_loss: 4.1199\n",
      "Epoch 54/100\n",
      "199/199 [==============================] - 1s 5ms/step - loss: 4.0912 - val_loss: 4.0296\n",
      "Epoch 55/100\n",
      "199/199 [==============================] - 1s 5ms/step - loss: 4.1333 - val_loss: 4.3218\n",
      "Epoch 56/100\n",
      "199/199 [==============================] - 1s 4ms/step - loss: 4.0995 - val_loss: 4.1031\n",
      "Epoch 57/100\n",
      "199/199 [==============================] - 1s 4ms/step - loss: 4.0788 - val_loss: 4.0900\n",
      "Epoch 58/100\n",
      "199/199 [==============================] - 1s 4ms/step - loss: 4.0400 - val_loss: 4.2374\n",
      "Epoch 59/100\n",
      "199/199 [==============================] - 1s 4ms/step - loss: 4.0479 - val_loss: 4.0468\n",
      "Epoch 60/100\n",
      "199/199 [==============================] - 1s 5ms/step - loss: 4.0699 - val_loss: 4.0431\n",
      "Epoch 61/100\n",
      "199/199 [==============================] - 1s 4ms/step - loss: 4.0503 - val_loss: 4.0202\n",
      "Epoch 62/100\n",
      "199/199 [==============================] - 1s 4ms/step - loss: 4.1280 - val_loss: 4.0107\n",
      "Epoch 63/100\n",
      "199/199 [==============================] - 1s 5ms/step - loss: 4.0299 - val_loss: 4.0012\n",
      "Epoch 64/100\n",
      "199/199 [==============================] - 1s 4ms/step - loss: 4.0706 - val_loss: 4.1635\n",
      "Epoch 65/100\n",
      "199/199 [==============================] - 1s 4ms/step - loss: 4.0302 - val_loss: 4.2295\n",
      "Epoch 66/100\n",
      "199/199 [==============================] - 1s 4ms/step - loss: 4.0267 - val_loss: 4.1431\n",
      "Epoch 67/100\n",
      "199/199 [==============================] - 1s 5ms/step - loss: 4.0275 - val_loss: 4.2819\n",
      "Epoch 68/100\n",
      "199/199 [==============================] - 1s 4ms/step - loss: 4.0451 - val_loss: 4.1413\n",
      "Epoch 69/100\n",
      "199/199 [==============================] - 1s 6ms/step - loss: 4.0021 - val_loss: 4.0319\n",
      "Epoch 70/100\n",
      "199/199 [==============================] - 1s 4ms/step - loss: 4.0169 - val_loss: 4.0443\n",
      "Epoch 71/100\n",
      "199/199 [==============================] - 1s 4ms/step - loss: 4.0109 - val_loss: 4.0186\n",
      "Epoch 72/100\n",
      "199/199 [==============================] - 1s 4ms/step - loss: 4.0019 - val_loss: 3.9796\n",
      "Epoch 73/100\n",
      "199/199 [==============================] - 1s 4ms/step - loss: 4.0027 - val_loss: 4.0689\n",
      "Epoch 74/100\n",
      "199/199 [==============================] - 1s 4ms/step - loss: 4.0546 - val_loss: 4.0606\n",
      "Epoch 75/100\n",
      "199/199 [==============================] - 1s 5ms/step - loss: 4.1708 - val_loss: 4.2967\n",
      "Epoch 76/100\n",
      "199/199 [==============================] - 1s 4ms/step - loss: 3.9989 - val_loss: 3.9823\n",
      "Epoch 77/100\n",
      "199/199 [==============================] - 1s 4ms/step - loss: 4.0276 - val_loss: 3.9958\n",
      "Epoch 78/100\n",
      "199/199 [==============================] - 1s 4ms/step - loss: 3.9886 - val_loss: 3.9773\n",
      "Epoch 79/100\n",
      "199/199 [==============================] - 1s 4ms/step - loss: 4.0095 - val_loss: 3.9483\n",
      "Epoch 80/100\n",
      "199/199 [==============================] - 1s 4ms/step - loss: 3.9934 - val_loss: 4.0960\n",
      "Epoch 81/100\n",
      "199/199 [==============================] - 1s 4ms/step - loss: 3.9930 - val_loss: 3.9540\n",
      "Epoch 82/100\n",
      "199/199 [==============================] - 1s 4ms/step - loss: 3.9531 - val_loss: 4.0949\n",
      "Epoch 83/100\n",
      "199/199 [==============================] - 1s 4ms/step - loss: 3.9602 - val_loss: 3.9680\n",
      "Epoch 84/100\n",
      "199/199 [==============================] - 1s 4ms/step - loss: 3.9906 - val_loss: 3.9535\n",
      "Epoch 85/100\n",
      "199/199 [==============================] - 1s 4ms/step - loss: 3.9862 - val_loss: 4.0529\n",
      "Epoch 86/100\n",
      "199/199 [==============================] - 1s 4ms/step - loss: 4.0024 - val_loss: 3.9282\n",
      "Epoch 87/100\n",
      "199/199 [==============================] - 1s 4ms/step - loss: 4.0045 - val_loss: 3.9633\n",
      "Epoch 88/100\n",
      "199/199 [==============================] - 1s 4ms/step - loss: 3.9744 - val_loss: 3.9204\n",
      "Epoch 89/100\n",
      "199/199 [==============================] - 1s 4ms/step - loss: 4.0017 - val_loss: 4.3306\n",
      "Epoch 90/100\n",
      "199/199 [==============================] - 1s 4ms/step - loss: 3.9763 - val_loss: 4.0790\n",
      "Epoch 91/100\n",
      "199/199 [==============================] - 1s 4ms/step - loss: 3.9692 - val_loss: 4.0773\n",
      "Epoch 92/100\n",
      "199/199 [==============================] - 1s 4ms/step - loss: 4.0038 - val_loss: 4.3108\n",
      "Epoch 93/100\n",
      "199/199 [==============================] - 1s 4ms/step - loss: 3.9337 - val_loss: 3.9560\n",
      "Epoch 94/100\n",
      "199/199 [==============================] - 1s 4ms/step - loss: 3.9609 - val_loss: 4.0801\n",
      "Epoch 95/100\n",
      "199/199 [==============================] - 1s 4ms/step - loss: 3.9305 - val_loss: 3.9108\n",
      "Epoch 96/100\n",
      "199/199 [==============================] - 1s 4ms/step - loss: 3.9570 - val_loss: 3.9962\n",
      "Epoch 97/100\n",
      "199/199 [==============================] - 1s 4ms/step - loss: 3.9234 - val_loss: 4.2308\n",
      "Epoch 98/100\n",
      "199/199 [==============================] - 1s 4ms/step - loss: 3.9703 - val_loss: 3.9853\n",
      "Epoch 99/100\n",
      "199/199 [==============================] - 1s 4ms/step - loss: 3.9225 - val_loss: 3.9302\n",
      "Epoch 100/100\n",
      "199/199 [==============================] - 1s 4ms/step - loss: 3.9525 - val_loss: 4.2103\n"
     ]
    }
   ],
   "source": [
    "model.compile(optimizer='adam',loss='mae')\n",
    "history = model.fit(train_x, train_y, epochs=100, batch_size=128, validation_data=(val_x, val_y))"
   ]
  },
  {
   "cell_type": "code",
   "execution_count": 184,
   "metadata": {},
   "outputs": [
    {
     "data": {
      "image/png": "[encoded data removed]",
      "text/plain": [
       "<Figure size 720x432 with 1 Axes>"
      ]
     },
     "metadata": {
      "needs_background": "light"
     },
     "output_type": "display_data"
    }
   ],
   "source": [
    "plt.figure(figsize=(10,6))\n",
    "plt.plot(history.history[\"loss\"], label = \"loss\", color = \"indigo\")\n",
    "plt.plot(history.history[\"val_loss\"],\"--\", label = \"val_loss\", color = \"plum\")\n",
    "plt.title(\"Adam Loss\")\n",
    "plt.xlabel(f\"Epochs\")\n",
    "plt.ylabel(f\"Loss value\")\n",
    "plt.legend()\n",
    "plt.show()"
   ]
  },
  {
   "cell_type": "code",
   "execution_count": 169,
   "metadata": {},
   "outputs": [
    {
     "name": "stdout",
     "output_type": "stream",
     "text": [
      "2/2 [==============================] - 0s 0s/step\n",
      "(50, 1) (50,)\n"
     ]
    }
   ],
   "source": [
    "data_size = 50# 시각화, 테스트할 데이터 개수\n",
    "prd_data = model.predict(test_x[:data_size])\n",
    "actual_value = test_y[:data_size]\n",
    "abs_data = []\n",
    "for i in range(len(actual_value)):\n",
    "    t = abs(prd_data[i] - actual_value[i])\n",
    "    abs_data.append(t)\n",
    "    #print(t, end = \", \")\n",
    "#history = model.compile(optimizer='adam', loss='mean_squared_error', metrics=['mean_squared_error'])\n",
    "print(prd_data.shape, actual_value.shape)"
   ]
  },
  {
   "cell_type": "code",
   "execution_count": 170,
   "metadata": {},
   "outputs": [
    {
     "data": {
      "image/png": "[encoded data removed]",
      "text/plain": [
       "<Figure size 432x288 with 2 Axes>"
      ]
     },
     "metadata": {
      "needs_background": "light"
     },
     "output_type": "display_data"
    }
   ],
   "source": [
    "plt.scatter(prd_data, actual_value, c = abs_data, edgecolor = \"b\", s = 100, alpha = 0.25, cmap = 'viridis')\n",
    "bar = plt.colorbar().set_label(\"error value\")\n",
    "plt.title(f\"Prediction Rate :: test size {data_size}\")\n",
    "plt.xlabel(f\"Predict\")\n",
    "plt.ylabel(f\"Actual Value\")\n",
    "plt.grid()\n",
    "plt.show()"
   ]
  },
  {
   "cell_type": "code",
   "execution_count": 171,
   "metadata": {},
   "outputs": [],
   "source": [
    "model.save(path+r\"\\save_model\\model_1.h5\")"
   ]
  },
  {
   "cell_type": "code",
   "execution_count": 172,
   "metadata": {},
   "outputs": [
    {
     "name": "stdout",
     "output_type": "stream",
     "text": [
      "1060/1060 [==============================] - 2s 2ms/step\n",
      "(33917, 1)\n",
      "[59.932743]\n"
     ]
    }
   ],
   "source": [
    "model = models.load_model(path+r\"\\save_model\\model_1.h5\")\n",
    "load_model_pre = model.predict(test_x)\n",
    "print(load_model_pre.shape)\n",
    "print(load_model_pre[0])"
   ]
  }
 ],
 "metadata": {
  "kernelspec": {
   "display_name": "Python 3.10.4 ('_py_venv_3.8': venv)",
   "language": "python",
   "name": "python3"
  },
  "language_info": {
   "codemirror_mode": {
    "name": "ipython",
    "version": 3
   },
   "file_extension": ".py",
   "mimetype": "text/x-python",
   "name": "python",
   "nbconvert_exporter": "python",
   "pygments_lexer": "ipython3",
   "version": "3.10.4"
  },
  "orig_nbformat": 4,
  "vscode": {
   "interpreter": {
    "hash": "8fdbd1a8a718dcd891737b9f2c716b91ec843bca5ce8a6d2f5ff447f56ec2dd7"
   }
  }
 },
 "nbformat": 4,
 "nbformat_minor": 2
}
