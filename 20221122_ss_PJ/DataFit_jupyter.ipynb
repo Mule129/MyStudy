{
 "cells": [
  {
   "cell_type": "code",
   "execution_count": 176,
   "metadata": {},
   "outputs": [],
   "source": [
    "import numpy as np\n",
    "import pandas as pd\n",
    "from keras import Sequential, layers, models\n",
    "from sklearn.model_selection import train_test_split\n",
    "from sklearn.preprocessing import Normalizer\n",
    "import tensorflow as tf\n",
    "import matplotlib.pyplot as plt"
   ]
  },
  {
   "cell_type": "code",
   "execution_count": 177,
   "metadata": {},
   "outputs": [
    {
     "name": "stdout",
     "output_type": "stream",
     "text": [
      "C:\\Users\\Mule129\\Documents\\GitHub\\practicePJ\\20221122_ss_PJ\n"
     ]
    }
   ],
   "source": [
    "import os\n",
    "\"\"\"print(os.path.realpath(\"__file__\"))\n",
    "print(os.path.abspath(\"__file__\"))\n",
    "print(os.path.dirname(os.path.realpath(\"__file__\")))\"\"\"\n",
    "path = os.path.dirname(os.path.realpath(\"__file__\"))\n",
    "print(path)"
   ]
  },
  {
   "cell_type": "code",
   "execution_count": 178,
   "metadata": {},
   "outputs": [
    {
     "name": "stdout",
     "output_type": "stream",
     "text": [
      "['AllData.csv', 'DataFit.py', 'DataFit_jupyter.ipynb', 'save_model', '육군 신체측정정보.csv']\n",
      "c:\\Users\\Mule129\\Documents\\GitHub\\practicePJ\\20221122_ss_PJ\n"
     ]
    }
   ],
   "source": [
    "import os\n",
    "print(os.listdir(os.getcwd()))\n",
    "print(os.getcwd())"
   ]
  },
  {
   "cell_type": "code",
   "execution_count": 179,
   "metadata": {},
   "outputs": [
    {
     "name": "stdout",
     "output_type": "stream",
     "text": [
      "(135668, 7) (135668,)\n"
     ]
    }
   ],
   "source": [
    "with open(path+r\"\\육군 신체측정정보.csv\", \"r\", ) as file:\n",
    "    data = pd.read_csv(file)\n",
    "    #print(data)\n",
    "train_data = data.to_numpy()\n",
    "x_data, y_data = [], []\n",
    "for i in train_data:\n",
    "    x_data.append(i[:7])\n",
    "    y_data.append(i[7])\n",
    "train_data = np.array(x_data)\n",
    "test_data = np.array(y_data)\n",
    "print(train_data.shape, test_data.shape)"
   ]
  },
  {
   "cell_type": "code",
   "execution_count": 180,
   "metadata": {},
   "outputs": [
    {
     "name": "stdout",
     "output_type": "stream",
     "text": [
      "(101751, 7) (33917, 7) (101751,) (33917,)\n"
     ]
    }
   ],
   "source": [
    "\n",
    "nmr = Normalizer().fit(x_data)\n",
    "t = nmr.transform(x_data)\n",
    "x_data = t\n",
    "\n",
    "train_x, test_x, train_y, test_y = train_test_split(train_data, test_data, random_state=1)\n",
    "print(train_x.shape, test_x.shape, train_y.shape, test_y.shape)"
   ]
  },
  {
   "cell_type": "code",
   "execution_count": 181,
   "metadata": {},
   "outputs": [
    {
     "name": "stdout",
     "output_type": "stream",
     "text": [
      "Model: \"sequential_5\"\n",
      "_________________________________________________________________\n",
      " Layer (type)                Output Shape              Param #   \n",
      "=================================================================\n",
      " dense_25 (Dense)            (None, 64)                512       \n",
      "                                                                 \n",
      " dense_26 (Dense)            (None, 32)                2080      \n",
      "                                                                 \n",
      " dense_27 (Dense)            (None, 16)                528       \n",
      "                                                                 \n",
      " dense_28 (Dense)            (None, 4)                 68        \n",
      "                                                                 \n",
      " dense_29 (Dense)            (None, 1)                 5         \n",
      "                                                                 \n",
      "=================================================================\n",
      "Total params: 3,193\n",
      "Trainable params: 3,193\n",
      "Non-trainable params: 0\n",
      "_________________________________________________________________\n"
     ]
    }
   ],
   "source": [
    "#모델 레이어 수정하고 fit만 다시 하면 정확도 문제 발생 -> 전체 실행으로 해결\n",
    "model = Sequential()\n",
    "model.add(layers.Input(7))\n",
    "#model.add(layers.Flatten())\n",
    "#model.add(layers.Dense(256, activation=\"relu\"))\n",
    "model.add(layers.Dense(64, activation=\"relu\"))\n",
    "model.add(layers.Dense(32, activation=\"relu\"))\n",
    "model.add(layers.Dense(16, activation=\"relu\"))\n",
    "model.add(layers.Dense(4, activation=\"relu\"))\n",
    "model.add(layers.Dense(1, activation=\"relu\"))\n",
    "\n",
    "model.summary()"
   ]
  },
  {
   "cell_type": "code",
   "execution_count": 182,
   "metadata": {},
   "outputs": [
    {
     "name": "stdout",
     "output_type": "stream",
     "text": [
      "Epoch 1/100\n",
      "795/795 [==============================] - 1s 892us/step - loss: 6.9451\n",
      "Epoch 2/100\n",
      "795/795 [==============================] - 1s 1ms/step - loss: 5.0126\n",
      "Epoch 3/100\n",
      "795/795 [==============================] - 1s 924us/step - loss: 4.8289\n",
      "Epoch 4/100\n",
      "795/795 [==============================] - 1s 885us/step - loss: 4.6843\n",
      "Epoch 5/100\n",
      "795/795 [==============================] - 1s 848us/step - loss: 4.5953\n",
      "Epoch 6/100\n",
      "795/795 [==============================] - 1s 882us/step - loss: 4.5257\n",
      "Epoch 7/100\n",
      "795/795 [==============================] - 1s 876us/step - loss: 4.4840\n",
      "Epoch 8/100\n",
      "795/795 [==============================] - 1s 858us/step - loss: 4.4427\n",
      "Epoch 9/100\n",
      "795/795 [==============================] - 1s 873us/step - loss: 4.4215\n",
      "Epoch 10/100\n",
      "795/795 [==============================] - 1s 865us/step - loss: 4.4134\n",
      "Epoch 11/100\n",
      "795/795 [==============================] - 1s 870us/step - loss: 4.3842\n",
      "Epoch 12/100\n",
      "795/795 [==============================] - 1s 889us/step - loss: 4.3799\n",
      "Epoch 13/100\n",
      "795/795 [==============================] - 1s 888us/step - loss: 4.3643\n",
      "Epoch 14/100\n",
      "795/795 [==============================] - 1s 886us/step - loss: 4.3611\n",
      "Epoch 15/100\n",
      "795/795 [==============================] - 1s 886us/step - loss: 4.3306\n",
      "Epoch 16/100\n",
      "795/795 [==============================] - 1s 902us/step - loss: 4.3375\n",
      "Epoch 17/100\n",
      "795/795 [==============================] - 1s 873us/step - loss: 4.3343\n",
      "Epoch 18/100\n",
      "795/795 [==============================] - 1s 845us/step - loss: 4.3299\n",
      "Epoch 19/100\n",
      "795/795 [==============================] - 1s 845us/step - loss: 4.3180\n",
      "Epoch 20/100\n",
      "795/795 [==============================] - 1s 844us/step - loss: 4.3185\n",
      "Epoch 21/100\n",
      "795/795 [==============================] - 1s 860us/step - loss: 4.3096\n",
      "Epoch 22/100\n",
      "795/795 [==============================] - 1s 891us/step - loss: 4.3014\n",
      "Epoch 23/100\n",
      "795/795 [==============================] - 1s 874us/step - loss: 4.2925\n",
      "Epoch 24/100\n",
      "795/795 [==============================] - 1s 870us/step - loss: 4.2914\n",
      "Epoch 25/100\n",
      "795/795 [==============================] - 1s 849us/step - loss: 4.2806\n",
      "Epoch 26/100\n",
      "795/795 [==============================] - 1s 838us/step - loss: 4.2745\n",
      "Epoch 27/100\n",
      "795/795 [==============================] - 1s 839us/step - loss: 4.2809\n",
      "Epoch 28/100\n",
      "795/795 [==============================] - 1s 840us/step - loss: 4.2613\n",
      "Epoch 29/100\n",
      "795/795 [==============================] - 1s 835us/step - loss: 4.2681\n",
      "Epoch 30/100\n",
      "795/795 [==============================] - 1s 845us/step - loss: 4.2571\n",
      "Epoch 31/100\n",
      "795/795 [==============================] - 1s 849us/step - loss: 4.2533\n",
      "Epoch 32/100\n",
      "795/795 [==============================] - 1s 840us/step - loss: 4.2482\n",
      "Epoch 33/100\n",
      "795/795 [==============================] - 1s 853us/step - loss: 4.2412\n",
      "Epoch 34/100\n",
      "795/795 [==============================] - 1s 840us/step - loss: 4.2306\n",
      "Epoch 35/100\n",
      "795/795 [==============================] - 1s 844us/step - loss: 4.2402\n",
      "Epoch 36/100\n",
      "795/795 [==============================] - 1s 845us/step - loss: 4.2358\n",
      "Epoch 37/100\n",
      "795/795 [==============================] - 1s 840us/step - loss: 4.2226\n",
      "Epoch 38/100\n",
      "795/795 [==============================] - 1s 841us/step - loss: 4.2202\n",
      "Epoch 39/100\n",
      "795/795 [==============================] - 1s 839us/step - loss: 4.2167\n",
      "Epoch 40/100\n",
      "795/795 [==============================] - 1s 840us/step - loss: 4.2171\n",
      "Epoch 41/100\n",
      "795/795 [==============================] - 1s 840us/step - loss: 4.2215\n",
      "Epoch 42/100\n",
      "795/795 [==============================] - 1s 847us/step - loss: 4.2140\n",
      "Epoch 43/100\n",
      "795/795 [==============================] - 1s 838us/step - loss: 4.2130\n",
      "Epoch 44/100\n",
      "795/795 [==============================] - 1s 834us/step - loss: 4.2123\n",
      "Epoch 45/100\n",
      "795/795 [==============================] - 1s 834us/step - loss: 4.2001\n",
      "Epoch 46/100\n",
      "795/795 [==============================] - 1s 838us/step - loss: 4.2078\n",
      "Epoch 47/100\n",
      "795/795 [==============================] - 1s 843us/step - loss: 4.1873\n",
      "Epoch 48/100\n",
      "795/795 [==============================] - 1s 851us/step - loss: 4.1926\n",
      "Epoch 49/100\n",
      "795/795 [==============================] - 1s 836us/step - loss: 4.1827\n",
      "Epoch 50/100\n",
      "795/795 [==============================] - 1s 840us/step - loss: 4.1848\n",
      "Epoch 51/100\n",
      "795/795 [==============================] - 1s 840us/step - loss: 4.1779\n",
      "Epoch 52/100\n",
      "795/795 [==============================] - 1s 843us/step - loss: 4.1803\n",
      "Epoch 53/100\n",
      "795/795 [==============================] - 1s 879us/step - loss: 4.1773\n",
      "Epoch 54/100\n",
      "795/795 [==============================] - 1s 855us/step - loss: 4.1694\n",
      "Epoch 55/100\n",
      "795/795 [==============================] - 1s 848us/step - loss: 4.1644\n",
      "Epoch 56/100\n",
      "795/795 [==============================] - 1s 855us/step - loss: 4.1759\n",
      "Epoch 57/100\n",
      "795/795 [==============================] - 1s 849us/step - loss: 4.1679\n",
      "Epoch 58/100\n",
      "795/795 [==============================] - 1s 853us/step - loss: 4.1631\n",
      "Epoch 59/100\n",
      "795/795 [==============================] - 1s 842us/step - loss: 4.1655\n",
      "Epoch 60/100\n",
      "795/795 [==============================] - 1s 850us/step - loss: 4.1578\n",
      "Epoch 61/100\n",
      "795/795 [==============================] - 1s 845us/step - loss: 4.1483\n",
      "Epoch 62/100\n",
      "795/795 [==============================] - 1s 829us/step - loss: 4.1590\n",
      "Epoch 63/100\n",
      "795/795 [==============================] - 1s 844us/step - loss: 4.1477\n",
      "Epoch 64/100\n",
      "795/795 [==============================] - 1s 847us/step - loss: 4.1552\n",
      "Epoch 65/100\n",
      "795/795 [==============================] - 1s 836us/step - loss: 4.1531\n",
      "Epoch 66/100\n",
      "795/795 [==============================] - 1s 848us/step - loss: 4.1385\n",
      "Epoch 67/100\n",
      "795/795 [==============================] - 1s 857us/step - loss: 4.1401\n",
      "Epoch 68/100\n",
      "795/795 [==============================] - 1s 849us/step - loss: 4.1450\n",
      "Epoch 69/100\n",
      "795/795 [==============================] - 1s 848us/step - loss: 4.1380\n",
      "Epoch 70/100\n",
      "795/795 [==============================] - 1s 844us/step - loss: 4.1385\n",
      "Epoch 71/100\n",
      "795/795 [==============================] - 1s 844us/step - loss: 4.1273\n",
      "Epoch 72/100\n",
      "795/795 [==============================] - 1s 844us/step - loss: 4.1211\n",
      "Epoch 73/100\n",
      "795/795 [==============================] - 1s 849us/step - loss: 4.1237\n",
      "Epoch 74/100\n",
      "795/795 [==============================] - 1s 847us/step - loss: 4.1247\n",
      "Epoch 75/100\n",
      "795/795 [==============================] - 1s 845us/step - loss: 4.1272\n",
      "Epoch 76/100\n",
      "795/795 [==============================] - 1s 858us/step - loss: 4.1222\n",
      "Epoch 77/100\n",
      "795/795 [==============================] - 1s 869us/step - loss: 4.1155\n",
      "Epoch 78/100\n",
      "795/795 [==============================] - 1s 864us/step - loss: 4.1113\n",
      "Epoch 79/100\n",
      "795/795 [==============================] - 1s 873us/step - loss: 4.1065\n",
      "Epoch 80/100\n",
      "795/795 [==============================] - 1s 864us/step - loss: 4.1137\n",
      "Epoch 81/100\n",
      "795/795 [==============================] - 1s 930us/step - loss: 4.1118\n",
      "Epoch 82/100\n",
      "795/795 [==============================] - 1s 845us/step - loss: 4.1083\n",
      "Epoch 83/100\n",
      "795/795 [==============================] - 1s 852us/step - loss: 4.1049\n",
      "Epoch 84/100\n",
      "795/795 [==============================] - 1s 833us/step - loss: 4.1086\n",
      "Epoch 85/100\n",
      "795/795 [==============================] - 1s 849us/step - loss: 4.0992\n",
      "Epoch 86/100\n",
      "795/795 [==============================] - 1s 839us/step - loss: 4.1047\n",
      "Epoch 87/100\n",
      "795/795 [==============================] - 1s 844us/step - loss: 4.0963\n",
      "Epoch 88/100\n",
      "795/795 [==============================] - 1s 839us/step - loss: 4.0913\n",
      "Epoch 89/100\n",
      "795/795 [==============================] - 1s 843us/step - loss: 4.0929\n",
      "Epoch 90/100\n",
      "795/795 [==============================] - 1s 859us/step - loss: 4.0895\n",
      "Epoch 91/100\n",
      "795/795 [==============================] - 1s 1ms/step - loss: 4.0864\n",
      "Epoch 92/100\n",
      "795/795 [==============================] - 1s 1ms/step - loss: 4.0865\n",
      "Epoch 93/100\n",
      "795/795 [==============================] - 1s 860us/step - loss: 4.0862\n",
      "Epoch 94/100\n",
      "795/795 [==============================] - 1s 879us/step - loss: 4.0837\n",
      "Epoch 95/100\n",
      "795/795 [==============================] - 1s 855us/step - loss: 4.0792\n",
      "Epoch 96/100\n",
      "795/795 [==============================] - 1s 907us/step - loss: 4.0753\n",
      "Epoch 97/100\n",
      "795/795 [==============================] - 1s 870us/step - loss: 4.0716\n",
      "Epoch 98/100\n",
      "795/795 [==============================] - 1s 879us/step - loss: 4.0740\n",
      "Epoch 99/100\n",
      "795/795 [==============================] - 1s 974us/step - loss: 4.0728\n",
      "Epoch 100/100\n",
      "795/795 [==============================] - 1s 1ms/step - loss: 4.0722\n"
     ]
    }
   ],
   "source": [
    "model.compile(optimizer='RMSprop',loss='mae')\n",
    "history = model.fit(train_x, train_y, epochs=100, batch_size=128)"
   ]
  },
  {
   "cell_type": "code",
   "execution_count": 183,
   "metadata": {},
   "outputs": [
    {
     "data": {
      "image/png": "[encoded data removed]",
      "text/plain": [
       "<Figure size 640x480 with 1 Axes>"
      ]
     },
     "metadata": {},
     "output_type": "display_data"
    }
   ],
   "source": [
    "plt.plot(history.history[\"loss\"])\n",
    "plt.title(\"loss\")\n",
    "plt.show()"
   ]
  },
  {
   "cell_type": "code",
   "execution_count": 184,
   "metadata": {},
   "outputs": [
    {
     "name": "stdout",
     "output_type": "stream",
     "text": [
      "2/2 [==============================] - 0s 2ms/step\n",
      "(50, 1) (50,)\n"
     ]
    }
   ],
   "source": [
    "data_size = 50# 시각화, 테스트할 데이터 개수\n",
    "prd_data = model.predict(test_x[:data_size])\n",
    "actual_value = test_y[:data_size]\n",
    "abs_data = []\n",
    "for i in range(len(actual_value)):\n",
    "    t = abs(prd_data[i] - actual_value[i])\n",
    "    abs_data.append(t**2)\n",
    "    #print(t, end = \", \")\n",
    "#history = model.compile(optimizer='adam', loss='mean_squared_error', metrics=['mean_squared_error'])\n",
    "print(prd_data.shape, actual_value.shape)"
   ]
  },
  {
   "cell_type": "code",
   "execution_count": 185,
   "metadata": {},
   "outputs": [
    {
     "data": {
      "image/png": "[encoded data removed]",
      "text/plain": [
       "<Figure size 640x480 with 2 Axes>"
      ]
     },
     "metadata": {},
     "output_type": "display_data"
    }
   ],
   "source": [
    "\"\"\"plt.plot(prd_data, \"o\")\n",
    "plt.plot(test_y)\n",
    "plt.plot(e_data)\"\"\"\n",
    "rng = np.random.RandomState(0)\n",
    "colors = abs_data#rng.rand(data_size)\n",
    "plt.scatter(prd_data, actual_value, c=colors, edgecolor = \"b\", s = 100, alpha=0.25, cmap='viridis')\n",
    "bar = plt.colorbar().set_label(\"error value\")\n",
    "plt.title(f\"Prediction Rate :: test size {data_size}\")\n",
    "plt.xlabel(f\"Predict\")\n",
    "plt.ylabel(f\"Actual Value\")\n",
    "plt.grid()\n",
    "plt.show()"
   ]
  },
  {
   "cell_type": "code",
   "execution_count": 186,
   "metadata": {},
   "outputs": [],
   "source": [
    "model.save(path+r\"\\save_model\\model_1.h5\")"
   ]
  },
  {
   "cell_type": "code",
   "execution_count": 187,
   "metadata": {},
   "outputs": [
    {
     "name": "stdout",
     "output_type": "stream",
     "text": [
      "1060/1060 [==============================] - 1s 594us/step\n",
      "(33917, 1)\n",
      "[56.86389]\n"
     ]
    }
   ],
   "source": [
    "model = models.load_model(path+r\"\\save_model\\model_GoodLoss.h5\")\n",
    "load_model_pre = model.predict(test_x)\n",
    "print(load_model_pre.shape)\n",
    "print(load_model_pre[0])"
   ]
  },
  {
   "cell_type": "code",
   "execution_count": 188,
   "metadata": {},
   "outputs": [
    {
     "data": {
      "text/plain": [
       "1.2000000000000002"
      ]
     },
     "execution_count": 188,
     "metadata": {},
     "output_type": "execute_result"
    }
   ],
   "source": [
    "a = 1.1\n",
    "b = 0.1\n",
    "a + b"
   ]
  }
 ],
 "metadata": {
  "kernelspec": {
   "display_name": "Python 3.10.4 ('_venv_py_': venv)",
   "language": "python",
   "name": "python3"
  },
  "language_info": {
   "codemirror_mode": {
    "name": "ipython",
    "version": 3
   },
   "file_extension": ".py",
   "mimetype": "text/x-python",
   "name": "python",
   "nbconvert_exporter": "python",
   "pygments_lexer": "ipython3",
   "version": "3.10.4"
  },
  "orig_nbformat": 4,
  "vscode": {
   "interpreter": {
    "hash": "3e61e73a456b9de0a49e9e459ac00e80c3b3ac1a8908107ff254140b8d58d5e4"
   }
  }
 },
 "nbformat": 4,
 "nbformat_minor": 2
}
